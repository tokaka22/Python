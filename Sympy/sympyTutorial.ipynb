{
 "cells": [
  {
   "cell_type": "markdown",
   "source": [
    "**refer: https://zhuanlan.zhihu.com/p/111573239**\n",
    "# 基本函数\n",
    "- symbols() 定义符号  \n",
    "x, y, z = symbols('x y z')  \n",
    "f = symbols('f', cls = Function) f是函数变量\n",
    "- subs() 将数值代入变量  \n",
    "expr = cos(x) + 1  \n",
    "expr.subs(x, 0)\n",
    "- sympify() 将String表达式转为Sympy表达式  \n",
    "expr = sympify(str_expr)\n",
    "- evalf() 符号变量的evalf函数，转为指定精度的数值解  \n",
    "pi.evalf(3) 指定精度为3位有效数字\n",
    "- lambdify(x) 如果进行简单的计算，使用subs()和evalf()是可行的，lambdify()可获得更高的精度  \n",
    "x = symbols('x')  \n",
    "expr = sin(x)  \n",
    "f = lambdify(x, expr, 'numpy')  \n",
    "- simplify() 化简表达式  \n",
    "alpha_mu = symbols('alpha_mu')  \n",
    "simplify(2*sin(alpha_mu)*cos(alpha_mu))\n",
    "- expand(expr) 展开表达式\n",
    "- factor(expr) 因式分解\n",
    "- collect(expr, x) 合并同类项，即计算x相关项的系数\n",
    "- cancel(expr) 消去分子分母的公因式  \n",
    "- apart(expr) 将1个分式展开为多个分式相加   \n",
    "- diff(expr, x) 求x一阶导数 （ps: 求偏导类似）  \n",
    "diff(expr, x, 3) 求x三阶导数  \n",
    "亦可写作：expr.diff(x, 2)\n",
    "- integrate(expr, x) 求积分  \n",
    "integrate(exp(-x), (x, 0, oo)) 求定积分0~$+\\infty$  \n",
    "- limit(expr, x, 0) 求极限 x→0\n",
    "- expr.series(x, 0, 4) 在x=0处对expr进行四阶展开\n",
    "- Eq(x**2 - x, 0) 构造方程$x^2-x=0$\n",
    "- solveset(Eq(x**2 - x, 0), x, domain = S.Reals) 求解方程\n",
    "- dsolve(diffEq, f(x)) 求解微分方程\n",
    "- Matrix([[1, -1], [3, 4], [0, 2]]) 构造矩阵\n",
    "- Matrix([1, 2, 3]) 构造列向量\n",
    "- Matrix([1, 2, 3]).T 构造行向量\n",
    "- eye() 构造单位矩阵\n",
    "- zeros() 构造零矩阵\n",
    "- ones() 构造1矩阵\n",
    "- diag(1,2,3,4) 构造对角矩阵\n",
    "- M.T 矩阵转置\n",
    "- M**2 矩阵的2次幂\n",
    "- M**-1 矩阵的逆\n",
    "- M.det() 矩阵的行列式\n",
    "- M.eigenvals() 特征值\n",
    "- lamda = symbols('lamda') 特征多项式  \n",
    "p = M.charpoly(lamda)\n",
    "- laplace_transform() Laplace变换"
   ],
   "metadata": {}
  },
  {
   "cell_type": "code",
   "execution_count": 15,
   "source": [
    "from sympy import *\n",
    "X = MatrixSymbol('X', 3, 3)\n",
    "Matrix(X)\n"
   ],
   "outputs": [
    {
     "output_type": "error",
     "ename": "NameError",
     "evalue": "name 'x_00' is not defined",
     "traceback": [
      "\u001b[0;31m---------------------------------------------------------------------------\u001b[0m",
      "\u001b[0;31mNameError\u001b[0m                                 Traceback (most recent call last)",
      "\u001b[0;32m<ipython-input-15-ceecf0f4c9cf>\u001b[0m in \u001b[0;36m<module>\u001b[0;34m\u001b[0m\n\u001b[1;32m      2\u001b[0m \u001b[0mX\u001b[0m \u001b[0;34m=\u001b[0m \u001b[0mMatrixSymbol\u001b[0m\u001b[0;34m(\u001b[0m\u001b[0;34m'X'\u001b[0m\u001b[0;34m,\u001b[0m \u001b[0;36m3\u001b[0m\u001b[0;34m,\u001b[0m \u001b[0;36m3\u001b[0m\u001b[0;34m)\u001b[0m\u001b[0;34m\u001b[0m\u001b[0;34m\u001b[0m\u001b[0m\n\u001b[1;32m      3\u001b[0m \u001b[0mMatrix\u001b[0m\u001b[0;34m(\u001b[0m\u001b[0mX\u001b[0m\u001b[0;34m)\u001b[0m\u001b[0;34m\u001b[0m\u001b[0;34m\u001b[0m\u001b[0m\n\u001b[0;32m----> 4\u001b[0;31m \u001b[0mx_00\u001b[0m\u001b[0;34m\u001b[0m\u001b[0;34m\u001b[0m\u001b[0m\n\u001b[0m",
      "\u001b[0;31mNameError\u001b[0m: name 'x_00' is not defined"
     ]
    }
   ],
   "metadata": {}
  },
  {
   "cell_type": "markdown",
   "source": [
    "# 符号计算:\n",
    "- 在符号计算中，数学对象是精确表示的而不是近似的；\n",
    "- 未被计算的数学表达式会以符号形式保留；\n",
    "- 与符号计算对应的是数值计算"
   ],
   "metadata": {}
  },
  {
   "cell_type": "code",
   "execution_count": 1,
   "source": [
    "### 数值计算示例\n",
    "import math\n",
    "math.pi\n",
    "print(math.sin(math.pi))"
   ],
   "outputs": [
    {
     "output_type": "stream",
     "name": "stdout",
     "text": [
      "1.2246467991473532e-16\n"
     ]
    }
   ],
   "metadata": {}
  },
  {
   "cell_type": "code",
   "execution_count": 3,
   "source": [
    "### 符号计算示例\n",
    "from sympy import *\n",
    "print(sin(pi))"
   ],
   "outputs": [
    {
     "output_type": "stream",
     "name": "stdout",
     "text": [
      "0\n"
     ]
    }
   ],
   "metadata": {}
  },
  {
   "cell_type": "markdown",
   "source": [
    "# 计算机代数系统：\n",
    "计算机代数系统（Computer Algebra System，缩写作：CAS）是进行符号运算的软件。在计算机代数系统中运算的对象是数学表达式。\n",
    "##　通常表达式有如下几类：  \n",
    "- 多元多项式\n",
    "- 标准函数（三角函数、指数函数等）\n",
    "- 特殊函数（Bessel 函数等）\n",
    "- 多种函数组成的复合函数\n",
    "- 表达式的导数、积分、和与积等\n",
    "- 级数\n",
    "- 矩阵\n",
    "## 典型符号计算：\n",
    "- 表达式化简\n",
    "- 表达式求值\n",
    "- 表达式的变形：展开、积、幂、部分分式表示、将三角函数转换为指数函数等\n",
    "- 一元或多元微分\n",
    "- 带条件的化简\n",
    "- 部分或完整的因式分解\n",
    "- 求解线性或非线性方程\n",
    "- 求解微分方程或差分方程\n",
    "- 求极限\n",
    "- 求函数的定积分、不定积分\n",
    "- 泰勒展开、洛朗展开等\n",
    "- 无穷级数展开\n",
    "- 级数求和\n",
    "- 矩阵运算\n",
    "- 数学公式的Latex表示\n",
    "## 数值计算能力：\n",
    "- 求函数确切值\n",
    "- 求高精度值，如 $pi$\n",
    "- 线性代数的数值运算  \n",
    "\n",
    "此外还具有绘图等功能"
   ],
   "metadata": {}
  },
  {
   "cell_type": "markdown",
   "source": [
    "# 导入sympy库\n",
    "两种方式都导入了 SymPy 库中的所有函数、对象、变量等。区别是调用方式不同。比如在调用 $\\sqrt{}$函数时，前者应写成 sympy.sqrt(2)，后者则直接写成 sqrt(2)。为了力求简洁，我们使用第 2 种方式导入 SymPy 。"
   ],
   "metadata": {}
  },
  {
   "cell_type": "code",
   "execution_count": null,
   "source": [
    "### 1.直接导入\n",
    "import sympy"
   ],
   "outputs": [],
   "metadata": {}
  },
  {
   "cell_type": "code",
   "execution_count": null,
   "source": [
    "### 2.利用from语句导入\n",
    "from sympy import *"
   ],
   "outputs": [],
   "metadata": {}
  },
  {
   "cell_type": "markdown",
   "source": [
    "# 新建符号\n",
    "在使用符号之前，先要利用 symbols 函数定义符号，语句是："
   ],
   "metadata": {}
  },
  {
   "cell_type": "code",
   "execution_count": null,
   "source": [
    "x, y = symbols('x, y')"
   ],
   "outputs": [],
   "metadata": {}
  },
  {
   "cell_type": "code",
   "execution_count": null,
   "source": [
    "### 利用sympy的abc子模块新建符号x, y\n",
    "from sympy.abc import x, y"
   ],
   "outputs": [],
   "metadata": {}
  },
  {
   "cell_type": "code",
   "execution_count": null,
   "source": [
    "### 指定定义域\n",
    "x = symbols('x', positive = True)"
   ],
   "outputs": [],
   "metadata": {}
  },
  {
   "cell_type": "code",
   "execution_count": 9,
   "source": [
    "### 可以利用 symbols 函数依次新建类似x_1,x_2,x_3,x_4的多个变量：\n",
    "vars = symbols('x_1:5') # latex语法\n",
    "vars"
   ],
   "outputs": [
    {
     "output_type": "execute_result",
     "data": {
      "text/plain": [
       "(x_1, x_2, x_3, x_4)"
      ]
     },
     "metadata": {},
     "execution_count": 9
    }
   ],
   "metadata": {}
  },
  {
   "cell_type": "code",
   "execution_count": 7,
   "source": [
    "### 符号定义实例\n",
    "from sympy import *\n",
    "x, y, z = symbols('x y z')\n",
    "y = expand((x + 1)**2) # expand()展开函数\n",
    "y"
   ],
   "outputs": [
    {
     "output_type": "execute_result",
     "data": {
      "text/plain": [
       "x**2 + 2*x + 1"
      ],
      "text/latex": [
       "$\\displaystyle x^{2} + 2 x + 1$"
      ]
     },
     "metadata": {},
     "execution_count": 7
    }
   ],
   "metadata": {}
  },
  {
   "cell_type": "code",
   "execution_count": 8,
   "source": [
    "z = Rational(1, 2)\n",
    "z"
   ],
   "outputs": [
    {
     "output_type": "execute_result",
     "data": {
      "text/plain": [
       "1/2"
      ],
      "text/latex": [
       "$\\displaystyle \\frac{1}{2}$"
      ]
     },
     "metadata": {},
     "execution_count": 8
    }
   ],
   "metadata": {}
  }
 ],
 "metadata": {
  "orig_nbformat": 4,
  "language_info": {
   "name": "python",
   "version": "3.8.5",
   "mimetype": "text/x-python",
   "codemirror_mode": {
    "name": "ipython",
    "version": 3
   },
   "pygments_lexer": "ipython3",
   "nbconvert_exporter": "python",
   "file_extension": ".py"
  },
  "kernelspec": {
   "name": "python3",
   "display_name": "Python 3.8.5 64-bit ('base': conda)"
  },
  "interpreter": {
   "hash": "dca0ade3e726a953b501b15e8e990130d2b7799f14cfd9f4271676035ebe5511"
  }
 },
 "nbformat": 4,
 "nbformat_minor": 2
}